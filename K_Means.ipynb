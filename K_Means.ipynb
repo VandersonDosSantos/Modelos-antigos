{
  "nbformat": 4,
  "nbformat_minor": 0,
  "metadata": {
    "colab": {
      "name": "K-Means.ipynb",
      "provenance": [],
      "collapsed_sections": []
    },
    "kernelspec": {
      "name": "python3",
      "display_name": "Python 3"
    },
    "language_info": {
      "name": "python"
    }
  },
  "cells": [
    {
      "cell_type": "markdown",
      "source": [
        "# Agrupador k-means\n",
        "    Agrupa todos os dados, em grupos, cuja quantidade é definida pelo usuário, utilizando como base a média do grupo.\n",
        "    Funcionam somente com dados em que exista uma noção de centro, e pode ser melhorado com a utilização de seeds."
      ],
      "metadata": {
        "id": "V3IrkNp6SYTZ"
      }
    },
    {
      "cell_type": "code",
      "execution_count": 1,
      "metadata": {
        "id": "7DROaztlK7Z0"
      },
      "outputs": [],
      "source": [
        "from sklearn import datasets\n",
        "import numpy as np\n",
        "from sklearn.metrics import confusion_matrix\n",
        "import matplotlib.pyplot as plt\n",
        "from sklearn.cluster import KMeans"
      ]
    },
    {
      "cell_type": "markdown",
      "source": [
        "    Carregamento dos dados, contagem dos registros únicos e da sua quantidade."
      ],
      "metadata": {
        "id": "86kwsW2SW4og"
      }
    },
    {
      "cell_type": "code",
      "source": [
        "iris = datasets.load_iris()\n",
        "unicos, quantidade = np.unique(iris.target, return_counts= True)\n",
        "unicos"
      ],
      "metadata": {
        "colab": {
          "base_uri": "https://localhost:8080/"
        },
        "id": "CXiSgvgWLwHo",
        "outputId": "0706027a-8264-49f0-a725-18375106789b"
      },
      "execution_count": 3,
      "outputs": [
        {
          "output_type": "execute_result",
          "data": {
            "text/plain": [
              "array([0, 1, 2])"
            ]
          },
          "metadata": {},
          "execution_count": 3
        }
      ]
    },
    {
      "cell_type": "code",
      "source": [
        "quantidade"
      ],
      "metadata": {
        "colab": {
          "base_uri": "https://localhost:8080/"
        },
        "id": "3a5lzwlzMflQ",
        "outputId": "07e05cd9-76c3-4a18-cbe0-fa69c3553cea"
      },
      "execution_count": 4,
      "outputs": [
        {
          "output_type": "execute_result",
          "data": {
            "text/plain": [
              "array([50, 50, 50])"
            ]
          },
          "metadata": {},
          "execution_count": 4
        }
      ]
    },
    {
      "cell_type": "markdown",
      "source": [
        "    Criando o agrupamento com k-means, com a definição de 3 clusters, utilizando somente os valores das classes para a classificação."
      ],
      "metadata": {
        "id": "eVaGjCceXXPO"
      }
    },
    {
      "cell_type": "code",
      "source": [
        "clusters = KMeans(n_clusters=3)\n",
        "clusters.fit(iris.data)"
      ],
      "metadata": {
        "colab": {
          "base_uri": "https://localhost:8080/"
        },
        "id": "JLs1onkwNFfg",
        "outputId": "df5b790e-0fdf-4f46-804c-37afe9fa9b41"
      },
      "execution_count": 5,
      "outputs": [
        {
          "output_type": "execute_result",
          "data": {
            "text/plain": [
              "KMeans(n_clusters=3)"
            ]
          },
          "metadata": {},
          "execution_count": 5
        }
      ]
    },
    {
      "cell_type": "markdown",
      "source": [
        "    Visualização dos centroides utilizados no processo de agrupamento."
      ],
      "metadata": {
        "id": "ARdpfh5SYAHS"
      }
    },
    {
      "cell_type": "code",
      "source": [
        "centroides = clusters.cluster_centers_\n",
        "centroides"
      ],
      "metadata": {
        "colab": {
          "base_uri": "https://localhost:8080/"
        },
        "id": "HVKhByNzNUzW",
        "outputId": "5d6d9971-a4d7-4092-fb04-a36bd8772b29"
      },
      "execution_count": 6,
      "outputs": [
        {
          "output_type": "execute_result",
          "data": {
            "text/plain": [
              "array([[5.006     , 3.428     , 1.462     , 0.246     ],\n",
              "       [5.9016129 , 2.7483871 , 4.39354839, 1.43387097],\n",
              "       [6.85      , 3.07368421, 5.74210526, 2.07105263]])"
            ]
          },
          "metadata": {},
          "execution_count": 6
        }
      ]
    },
    {
      "cell_type": "markdown",
      "source": [
        "    Visualização dos grupamentos criados."
      ],
      "metadata": {
        "id": "ICf9CqkmYixP"
      }
    },
    {
      "cell_type": "code",
      "source": [
        "grupamentos = clusters.labels_\n",
        "grupamentos"
      ],
      "metadata": {
        "colab": {
          "base_uri": "https://localhost:8080/"
        },
        "id": "fY_JMH4INftY",
        "outputId": "3744e70f-aef2-4a30-d76a-932b8400fb20"
      },
      "execution_count": 8,
      "outputs": [
        {
          "output_type": "execute_result",
          "data": {
            "text/plain": [
              "array([0, 0, 0, 0, 0, 0, 0, 0, 0, 0, 0, 0, 0, 0, 0, 0, 0, 0, 0, 0, 0, 0,\n",
              "       0, 0, 0, 0, 0, 0, 0, 0, 0, 0, 0, 0, 0, 0, 0, 0, 0, 0, 0, 0, 0, 0,\n",
              "       0, 0, 0, 0, 0, 0, 1, 1, 2, 1, 1, 1, 1, 1, 1, 1, 1, 1, 1, 1, 1, 1,\n",
              "       1, 1, 1, 1, 1, 1, 1, 1, 1, 1, 1, 2, 1, 1, 1, 1, 1, 1, 1, 1, 1, 1,\n",
              "       1, 1, 1, 1, 1, 1, 1, 1, 1, 1, 1, 1, 2, 1, 2, 2, 2, 2, 1, 2, 2, 2,\n",
              "       2, 2, 2, 1, 1, 2, 2, 2, 2, 1, 2, 1, 2, 1, 2, 2, 1, 1, 2, 2, 2, 2,\n",
              "       2, 1, 2, 2, 2, 2, 1, 2, 2, 2, 1, 2, 2, 2, 1, 2, 2, 1], dtype=int32)"
            ]
          },
          "metadata": {},
          "execution_count": 8
        }
      ]
    },
    {
      "cell_type": "markdown",
      "source": [
        "    Contagem das classes criadas pelo agrupador e as quantidades de cada grupo."
      ],
      "metadata": {
        "id": "FR2ivPhvZGT6"
      }
    },
    {
      "cell_type": "code",
      "source": [
        "unicos2, quantidade2 = np.unique(grupamentos, return_counts=True)\n",
        "unicos2"
      ],
      "metadata": {
        "colab": {
          "base_uri": "https://localhost:8080/"
        },
        "id": "9S9MHJ43N48V",
        "outputId": "84975625-a530-4e6f-b671-c8f6a6be0ef5"
      },
      "execution_count": 10,
      "outputs": [
        {
          "output_type": "execute_result",
          "data": {
            "text/plain": [
              "array([0, 1, 2], dtype=int32)"
            ]
          },
          "metadata": {},
          "execution_count": 10
        }
      ]
    },
    {
      "cell_type": "code",
      "source": [
        "# Nota-se que o primeiro grupo aparentemente ficou igual ao original havendo discrepancias apenas no segundo e terceiro grupos.\n",
        "# Isto pode indicar que o segundo e terceiro grupo possuem características comuns entre si.\n",
        "quantidade2"
      ],
      "metadata": {
        "colab": {
          "base_uri": "https://localhost:8080/"
        },
        "id": "N33A1v8AOOGZ",
        "outputId": "fc91e96e-6a13-44fa-bfae-0fa8b69fde89"
      },
      "execution_count": 15,
      "outputs": [
        {
          "output_type": "execute_result",
          "data": {
            "text/plain": [
              "array([50, 62, 38])"
            ]
          },
          "metadata": {},
          "execution_count": 15
        }
      ]
    },
    {
      "cell_type": "markdown",
      "source": [
        "    Verificação dos acertos com matriz de confusão."
      ],
      "metadata": {
        "id": "ZCz-k3UuZ0z7"
      }
    },
    {
      "cell_type": "code",
      "source": [
        "# Como se pode ver, dos 150 registros apenas 16 foram classificados de maneira errada.\n",
        "# O que demonstra que o k-means, a pesar de ser um agrupador muito utilizado para este tipo de caso, acabou entregando mais de 10% de erro.\n",
        "resultados = confusion_matrix(iris.target, grupamentos)\n",
        "resultados"
      ],
      "metadata": {
        "colab": {
          "base_uri": "https://localhost:8080/"
        },
        "id": "W607BaHvOjnT",
        "outputId": "7af25f65-f080-4edb-f2ef-3df525302768"
      },
      "execution_count": 14,
      "outputs": [
        {
          "output_type": "execute_result",
          "data": {
            "text/plain": [
              "array([[50,  0,  0],\n",
              "       [ 0, 48,  2],\n",
              "       [ 0, 14, 36]])"
            ]
          },
          "metadata": {},
          "execution_count": 14
        }
      ]
    }
  ]
}